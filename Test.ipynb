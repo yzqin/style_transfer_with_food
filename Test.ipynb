{
 "cells": [
  {
   "cell_type": "markdown",
   "metadata": {},
   "source": [
    "# Pie in The Sky: Food Syle Transfer with Cycle-GAN \n",
    "\n",
    "This file contains the ***training*** code of project of [ECE 285f](https://www.math.u-bordeaux.fr/~cdeledal/teaching.php#learningFA18) 2018.\n",
    "We named this project as `Pie in The Sky` though it is not purely about food generation. But it can generate one type of food from the other, so it makes some `Pie in The Sky`. Actually, we truely get a food generator during the training of model. \n",
    "\n",
    "\n",
    "# Prerequisites\n",
    "- Python 3.3 or above\n",
    "- [Pytorch 0.4.0](torch.org)\n",
    "- [Torchvision](https://github.com/pytorch/vision)\n",
    "- [visdom visualizer 0.1.8.5](https://github.com/facebookresearch/visdom)\n",
    "- [dominate 2.3.5](https://github.com/Knio/dominate)\n",
    "\n",
    "For UCSD `DSMLP` user, you only need to install part of the package with the following command:\n",
    "```bash\n",
    "pip3 install visdom==0.1.8.5 --user\n",
    "pip3 install dominate==2.3.5 --user\n",
    "pip3 install torchvision --user\n",
    "```\n",
    "\n",
    "# Quick Start\n",
    "In this project, we adopt [visdom](https://github.com/facebookresearch/visdom) for realtime visilization, which enable users to monitor the training process just in thier laptop, without cope another from the server.\n",
    "So first, launch the visdom server. `Otherwise, the code will raise error!`\n",
    "```bash\n",
    "python3 -m visdom.server\n",
    "```\n",
    "\n",
    "Or, run it in background\n",
    "```bash\n",
    "nohup python3 -m visdom.server\n",
    "```"
   ]
  },
  {
   "cell_type": "markdown",
   "metadata": {},
   "source": [
    "## Important note\n",
    "- Before testing, make sure that your ***visdom server*** has been successfully launched using the command above, otherwise you may encounter an ***error***. "
   ]
  },
  {
   "cell_type": "code",
   "execution_count": null,
   "metadata": {},
   "outputs": [],
   "source": [
    "# Import package\n",
    "import os\n",
    "from data import CreateDataLoader\n",
    "from cycle_gan_model import CycleGANModel\n",
    "from util.visualizer import save_images\n",
    "from util import html\n",
    "import config"
   ]
  },
  {
   "cell_type": "code",
   "execution_count": null,
   "metadata": {},
   "outputs": [],
   "source": [
    "# Identify the path of your data folder\n",
    "config.dataroot = THE_FULL_PATH_TO_TEMP_DATA # e.g '/home/yuzhe/temp_data'"
   ]
  },
  {
   "cell_type": "code",
   "execution_count": null,
   "metadata": {},
   "outputs": [],
   "source": [
    "# Configuration\n",
    "config.ntest = 2000\n",
    "config.results_dir = './test_results/'\n",
    "config.aspect_ratio = 1.0\n",
    "config.eval = True\n",
    "config.num_test = 50\n",
    "config.phase = 'test'\n",
    "config.model = 'test'\n",
    "config.loadSize = config.fineSize\n",
    "config.isTrain = False\n",
    "\n",
    "config.num_threads = 1   \n",
    "config.batch_size = 1    \n",
    "config.serial_batches = True  \n",
    "config.no_flip = True    \n",
    "config.display_id = -1   # no visdom display\n",
    "\n",
    "model = CycleGANModel()\n",
    "model.initialize(config)\n",
    "model.setup(config)\n",
    "print(\"Network Model Created\")\n",
    "data_loader = CreateDataLoader(config)\n",
    "dataset = data_loader.load_data()"
   ]
  },
  {
   "cell_type": "code",
   "execution_count": null,
   "metadata": {},
   "outputs": [],
   "source": [
    "# Testing\n",
    "# create a container for results\n",
    "web_dir = os.path.join(config.results_dir, config.name, '%s_%s' % (config.phase, config.epoch))\n",
    "webpage = html.HTML(web_dir, 'Experiment = %s, Phase = %s, Epoch = %s' % (config.name, config.phase, config.epoch))\n",
    "    \n",
    "for i, data in enumerate(dataset):\n",
    "    if i >= config.num_test:\n",
    "        break\n",
    "    model.set_input(data)\n",
    "    model.test()\n",
    "    visuals = model.get_current_visuals()\n",
    "    img_path = model.get_image_paths()\n",
    "    if i % 5 == 0:\n",
    "        print('processing (%04d)-th image... %s' % (i, img_path))\n",
    "    save_images(webpage, visuals, img_path, aspect_ratio=config.aspect_ratio, width=config.display_winsize)\n",
    "\n",
    "# Save results\n",
    "webpage.save()"
   ]
  }
 ],
 "metadata": {
  "kernelspec": {
   "display_name": "Python 3",
   "language": "python",
   "name": "python3"
  },
  "language_info": {
   "codemirror_mode": {
    "name": "ipython",
    "version": 3
   },
   "file_extension": ".py",
   "mimetype": "text/x-python",
   "name": "python",
   "nbconvert_exporter": "python",
   "pygments_lexer": "ipython3",
   "version": "3.7.1"
  }
 },
 "nbformat": 4,
 "nbformat_minor": 2
}
