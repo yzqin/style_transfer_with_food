{
 "cells": [
  {
   "cell_type": "markdown",
   "metadata": {},
   "source": [
    "## Test code for style transfer with food project"
   ]
  },
  {
   "cell_type": "code",
   "execution_count": null,
   "metadata": {},
   "outputs": [],
   "source": [
    "# Import package\n",
    "import os\n",
    "from data import CreateDataLoader\n",
    "from cycle_gan_model import CycleGANModel\n",
    "from util.visualizer import save_images\n",
    "from util import html\n",
    "import config"
   ]
  },
  {
   "cell_type": "code",
   "execution_count": null,
   "metadata": {},
   "outputs": [],
   "source": [
    "# Configuration\n",
    "config.ntest = 2000\n",
    "config.results_dir = '../test_results/'\n",
    "config.aspect_ratio = 1.0\n",
    "config.eval = True\n",
    "config.num_test = 50\n",
    "config.phase = 'test'\n",
    "config.model = 'test'\n",
    "config.loadSize = config.fineSize\n",
    "config.isTrain = False\n",
    "\n",
    "config.num_threads = 1   \n",
    "config.batch_size = 1    \n",
    "config.serial_batches = True  \n",
    "config.no_flip = True    \n",
    "config.display_id = -1   # no visdom display\n",
    "\n",
    "model = CycleGANModel()\n",
    "model.initialize(config)\n",
    "model.setup(config)\n",
    "print(\"Network Model Created\")\n",
    "data_loader = CreateDataLoader(config)\n",
    "dataset = data_loader.load_data()"
   ]
  },
  {
   "cell_type": "code",
   "execution_count": null,
   "metadata": {},
   "outputs": [],
   "source": [
    "# Testing\n",
    "# create a container for results\n",
    "web_dir = os.path.join(config.results_dir, config.name, '%s_%s' % (config.phase, config.epoch))\n",
    "webpage = html.HTML(web_dir, 'Experiment = %s, Phase = %s, Epoch = %s' % (config.name, config.phase, config.epoch))\n",
    "    \n",
    "for i, data in enumerate(dataset):\n",
    "    if i >= config.num_test:\n",
    "        break\n",
    "    model.set_input(data)\n",
    "    model.test()\n",
    "    visuals = model.get_current_visuals()\n",
    "    img_path = model.get_image_paths()\n",
    "    if i % 5 == 0:\n",
    "        print('processing (%04d)-th image... %s' % (i, img_path))\n",
    "    save_images(webpage, visuals, img_path, aspect_ratio=config.aspect_ratio, width=config.display_winsize)\n",
    "\n",
    "# Save results\n",
    "webpage.save()"
   ]
  }
 ],
 "metadata": {
  "kernelspec": {
   "display_name": "Python 3",
   "language": "python",
   "name": "python3"
  },
  "language_info": {
   "codemirror_mode": {
    "name": "ipython",
    "version": 3
   },
   "file_extension": ".py",
   "mimetype": "text/x-python",
   "name": "python",
   "nbconvert_exporter": "python",
   "pygments_lexer": "ipython3",
   "version": "3.7.1"
  }
 },
 "nbformat": 4,
 "nbformat_minor": 2
}
