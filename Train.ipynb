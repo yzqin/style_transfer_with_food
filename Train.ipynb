{
 "cells": [
  {
   "cell_type": "markdown",
   "metadata": {},
   "source": [
    "# Pie in The Sky: Food Syle Transfer with Cycle-GAN \n",
    "\n",
    "This file contains the ***training*** code of project of [ECE 285f](https://www.math.u-bordeaux.fr/~cdeledal/teaching.php#learningFA18) 2018.\n",
    "We named this project as `Pie in The Sky` though it is not purely about food generation. But it can generate one type of food from the other, so it makes some `Pie in The Sky`. Actually, we truely get a food generator during the training of model. \n",
    "\n",
    "\n",
    "# Prerequisites\n",
    "- Python 3.3 or above\n",
    "- [Pytorch 0.4.0](torch.org)\n",
    "- [Torchvision](https://github.com/pytorch/vision)\n",
    "- [visdom visualizer 0.1.8.5](https://github.com/facebookresearch/visdom)\n",
    "- [dominate 2.3.5](https://github.com/Knio/dominate)\n",
    "\n",
    "For UCSD `DSMLP` user, you only need to install part of the package with the following command:\n",
    "```bash\n",
    "pip3 install visdom==0.1.8.5 --user\n",
    "pip3 install dominate==2.3.5 --user\n",
    "pip3 install torchvision --user\n",
    "```\n",
    "\n",
    "# Quick Start\n",
    "In this project, we adopt [visdom](https://github.com/facebookresearch/visdom) for realtime visilization, which enable users to monitor the training process just in thier laptop, without cope another from the server.\n",
    "So first, launch the visdom server. `Otherwise, the code will raise error!`\n",
    "```bash\n",
    "python3 -m visdom.server\n",
    "```\n",
    "\n",
    "Or, run it in background\n",
    "```bash\n",
    "nohup python3 -m visdom.server\n",
    "```\n",
    "\n",
    "# Babysitting your training\n",
    "Since we have output the training visualization with visdom server to `port:8097`, you can observe the training by your browser. \n",
    "Visit `your_server_IP:8097` in your laptop, where `your_server_IP` is the IP address of your server. No password is needed."
   ]
  },
  {
   "cell_type": "markdown",
   "metadata": {},
   "source": [
    "## Import Note\n",
    "- Before you training, please make sure that you have already launched visdom server, otherwise the training process will ***fail***.\n",
    "\n",
    "## Author\n",
    "Yuzhe Qin, Sihan Wang, Hang Zhang, Yawen Zhao, Leyan Zhu"
   ]
  },
  {
   "cell_type": "code",
   "execution_count": null,
   "metadata": {},
   "outputs": [],
   "source": [
    "# Package Import\n",
    "import time\n",
    "from data import CreateDataLoader\n",
    "from cycle_gan_model import CycleGANModel\n",
    "from util.visualizer import Visualizer\n",
    "import config"
   ]
  },
  {
   "cell_type": "code",
   "execution_count": null,
   "metadata": {},
   "outputs": [],
   "source": [
    "# Load data and model\n",
    "data_loader = CreateDataLoader(config)\n",
    "dataset = data_loader.load_data()\n",
    "dataset_size = len(data_loader)\n",
    "print('***************************************************')\n",
    "print('ECE 285f Project: Food Style Transfer')\n",
    "print('Training demo start')\n",
    "print('Training set size= %d' % dataset_size)\n",
    "\n",
    "model = CycleGANModel()\n",
    "model.initialize(config)\n",
    "model.setup(config)\n",
    "visualizer = Visualizer(config)\n",
    "total_steps = 0"
   ]
  },
  {
   "cell_type": "code",
   "execution_count": null,
   "metadata": {},
   "outputs": [],
   "source": [
    "# Training\n",
    "for epoch in range(config.epoch_count, config.niter + config.niter_decay + 1):\n",
    "    epoch_start_time = time.time()\n",
    "    iter_data_time = time.time()\n",
    "    epoch_iter = 0\n",
    "\n",
    "    for i, data in enumerate(dataset):\n",
    "        iter_start_time = time.time()\n",
    "        if total_steps % 100 == 0:\n",
    "            t_data = iter_start_time - iter_data_time\n",
    "        visualizer.reset()\n",
    "        total_steps += config.batch_size\n",
    "        epoch_iter += config.batch_size\n",
    "        model.set_input(data)\n",
    "        model.optimize_parameters()\n",
    "\n",
    "        # Visualization\n",
    "        if total_steps % 400 == 0:\n",
    "            save_result = total_steps % config.update_html_freq == 0\n",
    "            visualizer.display_current_results(model.get_current_visuals(), epoch, save_result)\n",
    "\n",
    "        # Print log\n",
    "        if total_steps % 100 == 0:\n",
    "            losses = model.get_current_losses()\n",
    "            t = (time.time() - iter_start_time) / config.batch_size\n",
    "            visualizer.print_current_losses(epoch, epoch_iter, losses, t, t_data)\n",
    "            if config.display_id > 0:\n",
    "                visualizer.plot_current_losses(epoch, float(epoch_iter) / dataset_size, config, losses)\n",
    "\n",
    "        if total_steps % config.save_latest_freq == 0:\n",
    "            print('saving the latest model (epoch %d, total_steps %d)' % (epoch, total_steps))\n",
    "            save_suffix = 'iter_%d' % total_steps if config.save_by_iter else 'latest'\n",
    "            model.save_networks(save_suffix)\n",
    "\n",
    "        iter_data_time = time.time()\n",
    "        if epoch % 50 == 0:\n",
    "            print('saving the model at the end of epoch %d, iters %d' % (epoch, total_steps))\n",
    "            model.save_networks('latest')\n",
    "            model.save_networks(epoch)\n",
    "\n",
    "        print('End of epoch %d / %d \\t Time Taken: %d sec' %\n",
    "              (epoch, config.niter + config.niter_decay, time.time() - epoch_start_time))\n",
    "        model.update_learning_rate()"
   ]
  }
 ],
 "metadata": {
  "kernelspec": {
   "display_name": "Python 3",
   "language": "python",
   "name": "python3"
  },
  "language_info": {
   "codemirror_mode": {
    "name": "ipython",
    "version": 3
   },
   "file_extension": ".py",
   "mimetype": "text/x-python",
   "name": "python",
   "nbconvert_exporter": "python",
   "pygments_lexer": "ipython3",
   "version": "3.7.1"
  }
 },
 "nbformat": 4,
 "nbformat_minor": 2
}
